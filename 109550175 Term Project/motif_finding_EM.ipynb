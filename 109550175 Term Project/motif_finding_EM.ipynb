{
  "cells": [
    {
      "cell_type": "code",
      "execution_count": 76,
      "metadata": {
        "colab": {
          "base_uri": "https://localhost:8080/"
        },
        "id": "TP_hq4kOqDIM",
        "outputId": "4c590dea-e99d-448f-af25-9be7ee13c071"
      },
      "outputs": [],
      "source": [
        "import numpy as np\n",
        "import pandas as pd\n",
        "import warnings\n",
        "import random\n",
        "warnings.filterwarnings(\"ignore\", category=np.VisibleDeprecationWarning) "
      ]
    },
    {
      "cell_type": "code",
      "execution_count": 77,
      "metadata": {
        "id": "jvtCPOyqrgde"
      },
      "outputs": [],
      "source": [
        "map_ = {'a':0 , 'c':1 , 'g':2 , 't':3}\n",
        "W = None\n",
        "ttl_a = None\n",
        "ttl_c = None\n",
        "ttl_g = None\n",
        "ttl_t = None\n",
        "total_bases = None\n",
        "P0 = None\n",
        "Z = None\n",
        "Pk = None\n",
        "seqs = None"
      ]
    },
    {
      "cell_type": "code",
      "execution_count": 78,
      "metadata": {
        "id": "eQweHnnz0XUr"
      },
      "outputs": [],
      "source": [
        "def Clear_Global():\n",
        "  global W \n",
        "  global ttl_a\n",
        "  global ttl_c\n",
        "  global ttl_g\n",
        "  global ttl_t\n",
        "  global total_bases\n",
        "  global P0\n",
        "  global Z\n",
        "  global Pk\n",
        "  global seqs\n",
        "  \n",
        "  W = None\n",
        "  ttl_a = 0\n",
        "  ttl_c = 0\n",
        "  ttl_g = 0\n",
        "  ttl_t = 0\n",
        "  total_bases = 0\n",
        "  P0 = None\n",
        "  Z = []\n",
        "  Pk = []\n",
        "  seqs = None"
      ]
    },
    {
      "cell_type": "code",
      "execution_count": 79,
      "metadata": {
        "id": "Sv1HAkwLqWPn"
      },
      "outputs": [],
      "source": [
        "def Read_File(path):\n",
        "  global seqs\n",
        "  global W\n",
        "  given_motif_length = ''\n",
        "  seqs_ = []\n",
        "  f = open(path)\n",
        "  for i , line in enumerate(f.readlines()):\n",
        "    # print(line)\n",
        "    if i == 0 :\n",
        "      for j in reversed(range(len(line))):\n",
        "        if str(line[j]).isnumeric():\n",
        "          given_motif_length = str(line[j]) + given_motif_length\n",
        "    elif line != '\\n' and line.startswith(\">s\") == False:\n",
        "      seq = \"\"\n",
        "      for char in str(line[:-1]).lower():\n",
        "        if char == 'a' or char == 't' or char == 'c' or char == 'g':\n",
        "          seq += char\n",
        "        else:\n",
        "          print(\"invalid base : \" , char)\n",
        "      seqs_.append(seq)\n",
        "  f.close()\n",
        "  seqs = np.array(seqs_)\n",
        "  W = int(given_motif_length)\n",
        "  # print(W , len(seqs))\n",
        "\n",
        "# for i in range(1 , 9):\n",
        "#   Read_File('final_testing_data/Q' + str(i) +'.txt')"
      ]
    },
    {
      "cell_type": "code",
      "execution_count": 80,
      "metadata": {
        "id": "WRdKW6FV5ufh"
      },
      "outputs": [],
      "source": [
        "def Setup_Background():\n",
        "  global ttl_a\n",
        "  global ttl_c\n",
        "  global ttl_g\n",
        "  global ttl_t\n",
        "  global total_bases\n",
        "  global P0\n",
        "  global seqs\n",
        "  for seq in seqs:\n",
        "    for base in seq:\n",
        "      if base == 'a':ttl_a +=1\n",
        "      if base == 'c':ttl_c +=1\n",
        "      if base == 'g':ttl_g +=1\n",
        "      if base == 't':ttl_t +=1\n",
        "      if base != 'a' and base != 't' and base != 'c' and base != 'g' : print(base)\n",
        "  total_bases = ttl_a + ttl_c + ttl_g + ttl_t\n",
        "  P0 = np.array([ttl_a/total_bases , ttl_c/total_bases , ttl_g/total_bases , ttl_t/total_bases])"
      ]
    },
    {
      "cell_type": "code",
      "execution_count": 81,
      "metadata": {
        "id": "e-x-rt4-uocz"
      },
      "outputs": [],
      "source": [
        "def random_initialize():\n",
        "  global Pk\n",
        "  global Z\n",
        "  global seqs\n",
        "  global W\n",
        "  for i in range(4):\n",
        "    r = np.random.random(W)\n",
        "    r /= r.sum()\n",
        "    Pk.append(r)\n",
        "  Pk = np.array(Pk)\n",
        "  for i in range(len(seqs)):\n",
        "    r = np.random.random(len(seqs[i]) - W + 1) \n",
        "    r /= r.sum()\n",
        "    Z.append(r)\n",
        "  Z = np.array(Z)"
      ]
    },
    {
      "cell_type": "code",
      "execution_count": 82,
      "metadata": {
        "id": "xkItocoMwUXu"
      },
      "outputs": [],
      "source": [
        "def E_step():\n",
        "  global seqs\n",
        "  global P0\n",
        "  global W\n",
        "  global Z\n",
        "  global Pk\n",
        "  for i , seq in enumerate(seqs):  # modify each row in Z\n",
        "    Zi = [] # Compute Zi , which means model the i th seq\n",
        "    for j in range(len(seq) - W + 1): # enumerate all possible motif starting point\n",
        "      cnt = 0\n",
        "      Zij = 1\n",
        "      for plc , base in enumerate(seq): # scan through i th seq\n",
        "        # print(Zij)\n",
        "        if plc < j or plc > j+W-1: # outside motif\n",
        "          Zij *= P0[map_[base]] * pow(np.e , 1) # times e^1 to avoid Zij go down to smaller than e^-320 and then become 0\n",
        "        else: # inside motif\n",
        "          Zij *= Pk[map_[base]][cnt] * pow(np.e , 1)\n",
        "          cnt+=1\n",
        "      Zi.append(Zij) # finish compute Zij\n",
        "    Zi = np.array(Zi) # normalized Zi\n",
        "    Zi /= Zi.sum()\n",
        "    for k in range(len(Zi)): # Rewrite Zi back to Z matrix\n",
        "      Z[i][k] = Zi[k]\n",
        "\n",
        "def modify_Pk(dc , db):\n",
        "  global W\n",
        "  global Z\n",
        "  global seqs\n",
        "  total_Zsum = 0\n",
        "  for i in range(len(Z)):\n",
        "    for j in range(len(Z[i])):\n",
        "      total_Zsum += Z[i][j]\n",
        "  for base in ['a' , 'c' , 'g' , 't']:\n",
        "    for s in range(W):\n",
        "      possible_place = []\n",
        "      for seq in seqs:\n",
        "        target = []\n",
        "        for id , b in enumerate(seq):\n",
        "          if b == base and (id - s) >= 0 and (W - s + id - 1) <= len(seq)-1 : \n",
        "            target.append(id)\n",
        "        possible_place.append(target)\n",
        "      Zsum = 0\n",
        "      for i in range(len(possible_place)):\n",
        "        if len(possible_place[i]) == 0: # i-th seq does not satisfy P (base , s)\n",
        "          continue\n",
        "        for j in possible_place[i]:\n",
        "          Zsum += Z[i][j-s]\n",
        "      Pk[map_[base]][s] = (Zsum+dc)*1.0/(total_Zsum+db)\n",
        "    \n",
        "\n",
        "def M_step(dc = 1 , db = 4): # psuedo counts for a base , and 4 bases\n",
        "  modify_Pk(dc , db)\n",
        "\n",
        "# def L_of_theta(): # stoppong criteria of the EM algorithm\n",
        "#   # print(Pk)\n",
        "#   L_of_theta = 0 + 1e-10\n",
        "#   for i in range(len(seqs)):\n",
        "#     sum_of_zi = 0 + 1e-10 #sigma of p(x^i , z^i , theta(i.e , p))\n",
        "#     for j in range(len(Z[i])):\n",
        "#       # Zij = 1\n",
        "#       prob = 1\n",
        "#       for plc , base in enumerate(seqs[i]):\n",
        "#         if plc < j or plc > j + W - 1:\n",
        "#           prob *= P0[map_[base]]\n",
        "#         else:\n",
        "#           prob *= Pk[map_[base]][plc - j]\n",
        "#       sum_of_zi += prob\n",
        "#     log_of_sum_of_zi = np.log(sum_of_zi)\n",
        "#     L_of_theta += log_of_sum_of_zi\n",
        "#   return L_of_theta\n"
      ]
    },
    {
      "cell_type": "code",
      "execution_count": 83,
      "metadata": {
        "id": "iq_vIKdl3AbS"
      },
      "outputs": [],
      "source": [
        "def find_motif():\n",
        "  global seqs\n",
        "  global Z\n",
        "  global W\n",
        "  ans = []\n",
        "  ans_seq = []\n",
        "  for i in range(len(seqs)):\n",
        "    best_prob = -1\n",
        "    best_pos = 0\n",
        "    for j , prob in enumerate(Z[i]):\n",
        "      if prob >= best_prob:\n",
        "        best_prob = prob\n",
        "        best_pos = j\n",
        "    ans.append(best_pos)\n",
        "    ans_seq.append(seqs[i][best_pos : best_pos + W])\n",
        "  return np.array(ans) , np.array(ans_seq)"
      ]
    },
    {
      "cell_type": "code",
      "execution_count": 84,
      "metadata": {
        "id": "KkxsMnlxZm6Y"
      },
      "outputs": [],
      "source": [
        "def hamming(a , b):\n",
        "  cnt = 0 \n",
        "  for i in range(len(a)):\n",
        "    if a[i] != b[i]:\n",
        "      cnt += 1\n",
        "  return cnt"
      ]
    },
    {
      "cell_type": "code",
      "execution_count": 85,
      "metadata": {
        "id": "m3oTgu1zaBRg"
      },
      "outputs": [
        {
          "name": "stdout",
          "output_type": "stream",
          "text": [
            "['project1_beta/Q1.txt', 'project1_beta/Q3.txt', 'final_testing_data/Q1.txt', 'final_testing_data/Q2.txt', 'final_testing_data/Q3.txt', 'final_testing_data/Q4.txt', 'final_testing_data/Q5.txt', 'final_testing_data/Q6.txt', 'final_testing_data/Q7.txt', 'final_testing_data/Q8.txt']\n"
          ]
        }
      ],
      "source": [
        "Qpaths = []\n",
        "# Qpaths.append('project1_beta/Q1.txt')\n",
        "# Qpaths.append('project1_beta/Q3.txt')\n",
        "for i in range(1 , 9):\n",
        "    Qpaths.append('final_testing_data/Q' + str(i) + '.txt')\n",
        "# print(Qpaths)\n",
        "vote_num = 5"
      ]
    },
    {
      "cell_type": "code",
      "execution_count": 86,
      "metadata": {
        "colab": {
          "base_uri": "https://localhost:8080/"
        },
        "id": "LY2igYykaSKT",
        "outputId": "21ad71b7-f859-42cb-d382-5477a4a8212e"
      },
      "outputs": [
        {
          "name": "stdout",
          "output_type": "stream",
          "text": [
            "Key =  CGCGCGCGCG\n",
            "Key =  GGGCCGGGATTAGGG\n",
            "Key =  AATTATTTAAAAACC\n",
            "Key =  TGTATATAAAAATTG\n",
            "Key =  AACCCCCGGGGGCCC\n",
            "Key =  CCAGGAGCCCCCCGG\n",
            "Key =  TCAACTCTATTTCTC\n",
            "Key =  CCTCTCTAACTCTAC\n",
            "Key =  CCCCCCCCCCCCCCC\n",
            "Key =  CCCCCCCCCCCCCCC\n"
          ]
        }
      ],
      "source": [
        "for testcase_num , path in enumerate(Qpaths):\n",
        "  voter_of_None = 0\n",
        "  possible_final_output = []\n",
        "  possible_final_plc = []\n",
        "  possible_final_motifs = []\n",
        "  for voter in range(vote_num):\n",
        "    Clear_Global()\n",
        "    Read_File(path)\n",
        "    Setup_Background()\n",
        "    random_initialize()\n",
        "    it = 0\n",
        "    cnt = 0\n",
        "    while cnt <= 40 : \n",
        "      E_step()\n",
        "      M_step()\n",
        "      cnt +=1\n",
        "    \n",
        "    found_motif_start , found_motifs_for_each_seqs = find_motif()\n",
        "\n",
        "    records = []\n",
        "    for i in range(W):\n",
        "      record = [0.0 , 0.0 , 0.0 , 0.0]\n",
        "      for motif in found_motifs_for_each_seqs:\n",
        "        record[map_[motif[i]]] += 1\n",
        "      records.append(np.array(record))\n",
        "    \n",
        "\n",
        "    found_motif_by_this_voter = \"\" # 找出這個voter提出的motif長相\n",
        "    for i in range(W):\n",
        "      possible = []\n",
        "      if max(records[i]) == records[i][0] : possible.append('a')\n",
        "      if max(records[i]) == records[i][1] : possible.append('c')\n",
        "      if max(records[i]) == records[i][2] : possible.append('g') \n",
        "      if max(records[i]) == records[i][3] : possible.append('t')\n",
        "      choose = random.choice(possible)\n",
        "      found_motif_by_this_voter += choose\n",
        "    possible_final_output.append(found_motif_by_this_voter)\n",
        "    possible_final_plc.append(found_motif_start)\n",
        "    possible_final_motifs.append(found_motifs_for_each_seqs)\n",
        "    \n",
        "    n = 0 # 在這個voter的sequence中有幾個sequence不符合限制條件\n",
        "    for motif in found_motifs_for_each_seqs:\n",
        "      if hamming(found_motif_by_this_voter , motif) > 0.5 * W:\n",
        "        n += 1\n",
        "    if n >= 0.5 * len(found_motifs_for_each_seqs): # 如果有一半以上的sequence of this voter不符合限制條件 , 則這個voter標註為他提出\"None\"\n",
        "      voter_of_None += 1\n",
        "\n",
        "  if voter_of_None >= 0.5 * vote_num : # 如果有一半以上的voter提出\"None\" , 則最後的答案就是\"None\"\n",
        "    print(\"Key = None\")\n",
        "  else :\n",
        "    records_ = []\n",
        "    for i in range(W):\n",
        "      record = [0.0 , 0.0 , 0.0 , 0.0]\n",
        "      for v in possible_final_output:\n",
        "        record[map_[v[i]]] += 1\n",
        "      records_.append(np.array(record))\n",
        "    \n",
        "    final_output = \"\" # 選出這些voters共同決定的最終output\n",
        "    for i in range(W):\n",
        "      possible = []\n",
        "      if max(records_[i]) == records_[i][0] : possible.append('a')\n",
        "      if max(records_[i]) == records_[i][1] : possible.append('c')\n",
        "      if max(records_[i]) == records_[i][2] : possible.append('g') \n",
        "      if max(records_[i]) == records_[i][3] : possible.append('t')\n",
        "      choose = random.choice(possible)\n",
        "      final_output += choose\n",
        "\n",
        "    best_hamming = W + 20\n",
        "    choice_again = []\n",
        "    for i , v in enumerate(possible_final_output): # 選擇一個voter , 他的found_motif和最終答案(final_output)有最近hamming distance , \n",
        "                                                   # 根據這個條件output這個voter相應的 motif starting place 結果做輸出\n",
        "      if hamming(final_output , v) < best_hamming:\n",
        "        choice_again = []\n",
        "        choice_again.append(i)\n",
        "        best_hamming = hamming(final_output , v)\n",
        "      elif hamming(final_output , v) == best_hamming:\n",
        "        choice_again.append(i)\n",
        "    target = random.choice(choice_again)\n",
        "    best_plc = possible_final_plc[target]\n",
        "    best_motifs = possible_final_motifs[target]\n",
        "    path = 'Ans' + str(testcase_num + 1) +'.txt'\n",
        "    f = open(path, 'w')\n",
        "    print(\"Key = \" , final_output.upper() , file = f)\n",
        "    print(\"Key = \" , final_output.upper())\n",
        "    for i , plc in enumerate(best_plc):\n",
        "      print(f\"position {plc} on seq#{i+1}\" )\n",
        "      print(best_motifs[i].upper())\n",
        "    print(\"==============================\")\n",
        "    f.close()"
      ]
    }
  ],
  "metadata": {
    "colab": {
      "provenance": []
    },
    "gpuClass": "standard",
    "kernelspec": {
      "display_name": "Brian",
      "language": "python",
      "name": "python3"
    },
    "language_info": {
      "codemirror_mode": {
        "name": "ipython",
        "version": 3
      },
      "file_extension": ".py",
      "mimetype": "text/x-python",
      "name": "python",
      "nbconvert_exporter": "python",
      "pygments_lexer": "ipython3",
      "version": "3.10.6 (main, Nov 14 2022, 16:10:14) [GCC 11.3.0]"
    },
    "vscode": {
      "interpreter": {
        "hash": "694480f9be26816c6469dd2e8b9434ec7d34dc37861dcbf1f675f3cf40c4b8a3"
      }
    }
  },
  "nbformat": 4,
  "nbformat_minor": 0
}
